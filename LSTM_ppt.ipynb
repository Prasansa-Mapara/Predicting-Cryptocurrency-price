{
  "nbformat": 4,
  "nbformat_minor": 0,
  "metadata": {
    "colab": {
      "provenance": []
    },
    "kernelspec": {
      "name": "python3",
      "display_name": "Python 3"
    },
    "language_info": {
      "name": "python"
    }
  },
  "cells": [
    {
      "cell_type": "code",
      "metadata": {
        "id": "nRSlxT4q5EHJ",
        "colab": {
          "base_uri": "https://localhost:8080/"
        },
        "outputId": "40a4fc5c-a1e4-413b-dcb3-f6e8b7771d22"
      },
      "source": [
        "pip install yfinance"
      ],
      "execution_count": null,
      "outputs": [
        {
          "output_type": "stream",
          "name": "stdout",
          "text": [
            "Looking in indexes: https://pypi.org/simple, https://us-python.pkg.dev/colab-wheels/public/simple/\n",
            "Requirement already satisfied: yfinance in /usr/local/lib/python3.8/dist-packages (0.1.90)\n",
            "Requirement already satisfied: multitasking>=0.0.7 in /usr/local/lib/python3.8/dist-packages (from yfinance) (0.0.11)\n",
            "Requirement already satisfied: appdirs>=1.4.4 in /usr/local/lib/python3.8/dist-packages (from yfinance) (1.4.4)\n",
            "Requirement already satisfied: lxml>=4.9.1 in /usr/local/lib/python3.8/dist-packages (from yfinance) (4.9.1)\n",
            "Requirement already satisfied: requests>=2.26 in /usr/local/lib/python3.8/dist-packages (from yfinance) (2.28.1)\n",
            "Requirement already satisfied: numpy>=1.16.5 in /usr/local/lib/python3.8/dist-packages (from yfinance) (1.21.6)\n",
            "Requirement already satisfied: pandas>=1.3.0 in /usr/local/lib/python3.8/dist-packages (from yfinance) (1.3.5)\n",
            "Requirement already satisfied: pytz>=2017.3 in /usr/local/lib/python3.8/dist-packages (from pandas>=1.3.0->yfinance) (2022.6)\n",
            "Requirement already satisfied: python-dateutil>=2.7.3 in /usr/local/lib/python3.8/dist-packages (from pandas>=1.3.0->yfinance) (2.8.2)\n",
            "Requirement already satisfied: six>=1.5 in /usr/local/lib/python3.8/dist-packages (from python-dateutil>=2.7.3->pandas>=1.3.0->yfinance) (1.15.0)\n",
            "Requirement already satisfied: certifi>=2017.4.17 in /usr/local/lib/python3.8/dist-packages (from requests>=2.26->yfinance) (2022.9.24)\n",
            "Requirement already satisfied: urllib3<1.27,>=1.21.1 in /usr/local/lib/python3.8/dist-packages (from requests>=2.26->yfinance) (1.24.3)\n",
            "Requirement already satisfied: charset-normalizer<3,>=2 in /usr/local/lib/python3.8/dist-packages (from requests>=2.26->yfinance) (2.1.1)\n",
            "Requirement already satisfied: idna<4,>=2.5 in /usr/local/lib/python3.8/dist-packages (from requests>=2.26->yfinance) (2.10)\n"
          ]
        }
      ]
    },
    {
      "cell_type": "code",
      "source": [
        "import yfinance as yf\n",
        "maindf = yf.download('BTC-USD')\n"
      ],
      "metadata": {
        "colab": {
          "base_uri": "https://localhost:8080/"
        },
        "id": "145gWOf0JjL4",
        "outputId": "94bf7781-0a03-47a0-bdd8-de4f335b2afa"
      },
      "execution_count": null,
      "outputs": [
        {
          "output_type": "stream",
          "name": "stdout",
          "text": [
            "\r[*********************100%***********************]  1 of 1 completed\n"
          ]
        }
      ]
    },
    {
      "cell_type": "code",
      "source": [
        "import pandas as pd\n",
        "import numpy as np\n",
        "import matplotlib.pyplot as plt"
      ],
      "metadata": {
        "id": "znEmJrneODpn"
      },
      "execution_count": null,
      "outputs": []
    },
    {
      "cell_type": "code",
      "source": [
        "#chainging dtaset to simulate diffrent days\n",
        "goBack = 0\n",
        "\n",
        "maindf = maindf[:len(maindf) - goBack]\n",
        "maindf.tail()"
      ],
      "metadata": {
        "colab": {
          "base_uri": "https://localhost:8080/",
          "height": 237
        },
        "id": "CmmuKEeqTLpK",
        "outputId": "d0c63dab-e485-4aa0-951d-1d6d65a169a1"
      },
      "execution_count": null,
      "outputs": [
        {
          "output_type": "execute_result",
          "data": {
            "text/plain": [
              "                    Open          High           Low         Close  \\\n",
              "Date                                                                 \n",
              "2022-12-10  17134.220703  17216.826172  17120.683594  17128.724609   \n",
              "2022-12-11  17129.710938  17245.634766  17091.820312  17104.193359   \n",
              "2022-12-12  17102.500000  17212.564453  16899.394531  17206.437500   \n",
              "2022-12-13  17206.441406  17930.085938  17111.763672  17781.318359   \n",
              "2022-12-15  17817.437500  17846.744141  17652.097656  17655.722656   \n",
              "\n",
              "               Adj Close       Volume  \n",
              "Date                                   \n",
              "2022-12-10  17128.724609  12706781969  \n",
              "2022-12-11  17104.193359  14122486832  \n",
              "2022-12-12  17206.437500  19617581341  \n",
              "2022-12-13  17781.318359  26634741631  \n",
              "2022-12-15  17655.722656  25899763712  "
            ],
            "text/html": [
              "\n",
              "  <div id=\"df-76a3f433-47b4-4bac-863e-9d62d524becd\">\n",
              "    <div class=\"colab-df-container\">\n",
              "      <div>\n",
              "<style scoped>\n",
              "    .dataframe tbody tr th:only-of-type {\n",
              "        vertical-align: middle;\n",
              "    }\n",
              "\n",
              "    .dataframe tbody tr th {\n",
              "        vertical-align: top;\n",
              "    }\n",
              "\n",
              "    .dataframe thead th {\n",
              "        text-align: right;\n",
              "    }\n",
              "</style>\n",
              "<table border=\"1\" class=\"dataframe\">\n",
              "  <thead>\n",
              "    <tr style=\"text-align: right;\">\n",
              "      <th></th>\n",
              "      <th>Open</th>\n",
              "      <th>High</th>\n",
              "      <th>Low</th>\n",
              "      <th>Close</th>\n",
              "      <th>Adj Close</th>\n",
              "      <th>Volume</th>\n",
              "    </tr>\n",
              "    <tr>\n",
              "      <th>Date</th>\n",
              "      <th></th>\n",
              "      <th></th>\n",
              "      <th></th>\n",
              "      <th></th>\n",
              "      <th></th>\n",
              "      <th></th>\n",
              "    </tr>\n",
              "  </thead>\n",
              "  <tbody>\n",
              "    <tr>\n",
              "      <th>2022-12-10</th>\n",
              "      <td>17134.220703</td>\n",
              "      <td>17216.826172</td>\n",
              "      <td>17120.683594</td>\n",
              "      <td>17128.724609</td>\n",
              "      <td>17128.724609</td>\n",
              "      <td>12706781969</td>\n",
              "    </tr>\n",
              "    <tr>\n",
              "      <th>2022-12-11</th>\n",
              "      <td>17129.710938</td>\n",
              "      <td>17245.634766</td>\n",
              "      <td>17091.820312</td>\n",
              "      <td>17104.193359</td>\n",
              "      <td>17104.193359</td>\n",
              "      <td>14122486832</td>\n",
              "    </tr>\n",
              "    <tr>\n",
              "      <th>2022-12-12</th>\n",
              "      <td>17102.500000</td>\n",
              "      <td>17212.564453</td>\n",
              "      <td>16899.394531</td>\n",
              "      <td>17206.437500</td>\n",
              "      <td>17206.437500</td>\n",
              "      <td>19617581341</td>\n",
              "    </tr>\n",
              "    <tr>\n",
              "      <th>2022-12-13</th>\n",
              "      <td>17206.441406</td>\n",
              "      <td>17930.085938</td>\n",
              "      <td>17111.763672</td>\n",
              "      <td>17781.318359</td>\n",
              "      <td>17781.318359</td>\n",
              "      <td>26634741631</td>\n",
              "    </tr>\n",
              "    <tr>\n",
              "      <th>2022-12-15</th>\n",
              "      <td>17817.437500</td>\n",
              "      <td>17846.744141</td>\n",
              "      <td>17652.097656</td>\n",
              "      <td>17655.722656</td>\n",
              "      <td>17655.722656</td>\n",
              "      <td>25899763712</td>\n",
              "    </tr>\n",
              "  </tbody>\n",
              "</table>\n",
              "</div>\n",
              "      <button class=\"colab-df-convert\" onclick=\"convertToInteractive('df-76a3f433-47b4-4bac-863e-9d62d524becd')\"\n",
              "              title=\"Convert this dataframe to an interactive table.\"\n",
              "              style=\"display:none;\">\n",
              "        \n",
              "  <svg xmlns=\"http://www.w3.org/2000/svg\" height=\"24px\"viewBox=\"0 0 24 24\"\n",
              "       width=\"24px\">\n",
              "    <path d=\"M0 0h24v24H0V0z\" fill=\"none\"/>\n",
              "    <path d=\"M18.56 5.44l.94 2.06.94-2.06 2.06-.94-2.06-.94-.94-2.06-.94 2.06-2.06.94zm-11 1L8.5 8.5l.94-2.06 2.06-.94-2.06-.94L8.5 2.5l-.94 2.06-2.06.94zm10 10l.94 2.06.94-2.06 2.06-.94-2.06-.94-.94-2.06-.94 2.06-2.06.94z\"/><path d=\"M17.41 7.96l-1.37-1.37c-.4-.4-.92-.59-1.43-.59-.52 0-1.04.2-1.43.59L10.3 9.45l-7.72 7.72c-.78.78-.78 2.05 0 2.83L4 21.41c.39.39.9.59 1.41.59.51 0 1.02-.2 1.41-.59l7.78-7.78 2.81-2.81c.8-.78.8-2.07 0-2.86zM5.41 20L4 18.59l7.72-7.72 1.47 1.35L5.41 20z\"/>\n",
              "  </svg>\n",
              "      </button>\n",
              "      \n",
              "  <style>\n",
              "    .colab-df-container {\n",
              "      display:flex;\n",
              "      flex-wrap:wrap;\n",
              "      gap: 12px;\n",
              "    }\n",
              "\n",
              "    .colab-df-convert {\n",
              "      background-color: #E8F0FE;\n",
              "      border: none;\n",
              "      border-radius: 50%;\n",
              "      cursor: pointer;\n",
              "      display: none;\n",
              "      fill: #1967D2;\n",
              "      height: 32px;\n",
              "      padding: 0 0 0 0;\n",
              "      width: 32px;\n",
              "    }\n",
              "\n",
              "    .colab-df-convert:hover {\n",
              "      background-color: #E2EBFA;\n",
              "      box-shadow: 0px 1px 2px rgba(60, 64, 67, 0.3), 0px 1px 3px 1px rgba(60, 64, 67, 0.15);\n",
              "      fill: #174EA6;\n",
              "    }\n",
              "\n",
              "    [theme=dark] .colab-df-convert {\n",
              "      background-color: #3B4455;\n",
              "      fill: #D2E3FC;\n",
              "    }\n",
              "\n",
              "    [theme=dark] .colab-df-convert:hover {\n",
              "      background-color: #434B5C;\n",
              "      box-shadow: 0px 1px 3px 1px rgba(0, 0, 0, 0.15);\n",
              "      filter: drop-shadow(0px 1px 2px rgba(0, 0, 0, 0.3));\n",
              "      fill: #FFFFFF;\n",
              "    }\n",
              "  </style>\n",
              "\n",
              "      <script>\n",
              "        const buttonEl =\n",
              "          document.querySelector('#df-76a3f433-47b4-4bac-863e-9d62d524becd button.colab-df-convert');\n",
              "        buttonEl.style.display =\n",
              "          google.colab.kernel.accessAllowed ? 'block' : 'none';\n",
              "\n",
              "        async function convertToInteractive(key) {\n",
              "          const element = document.querySelector('#df-76a3f433-47b4-4bac-863e-9d62d524becd');\n",
              "          const dataTable =\n",
              "            await google.colab.kernel.invokeFunction('convertToInteractive',\n",
              "                                                     [key], {});\n",
              "          if (!dataTable) return;\n",
              "\n",
              "          const docLinkHtml = 'Like what you see? Visit the ' +\n",
              "            '<a target=\"_blank\" href=https://colab.research.google.com/notebooks/data_table.ipynb>data table notebook</a>'\n",
              "            + ' to learn more about interactive tables.';\n",
              "          element.innerHTML = '';\n",
              "          dataTable['output_type'] = 'display_data';\n",
              "          await google.colab.output.renderOutput(dataTable, element);\n",
              "          const docLink = document.createElement('div');\n",
              "          docLink.innerHTML = docLinkHtml;\n",
              "          element.appendChild(docLink);\n",
              "        }\n",
              "      </script>\n",
              "    </div>\n",
              "  </div>\n",
              "  "
            ]
          },
          "metadata": {},
          "execution_count": 4
        }
      ]
    },
    {
      "cell_type": "code",
      "source": [
        "testSize = 30\n",
        "trainSize = 365\n",
        "#trainSize = len(maindf) - testSize\n",
        "\n",
        "maindf = maindf[len(maindf) - trainSize - testSize:len(maindf)]"
      ],
      "metadata": {
        "id": "DAtt-D3Qx2Y-"
      },
      "execution_count": null,
      "outputs": []
    },
    {
      "cell_type": "code",
      "source": [
        "#SHAPE of the dataset\n",
        "print('Total number of days present in the Main dataset: ',maindf.shape[0]) #rows\n",
        "print('Total number of fields present in the Main dataset: ',maindf.shape[1]) #cols\n",
        "#print('\\n',maindf.info())\n",
        "\n",
        "df = maindf[['Close']] # we are only interested in the closing price\n",
        "print('\\n\\nTotal number of days present in the dataset: ',df.shape[0])\n",
        "print('Total number of fields present in the dataset: ',df.shape[1])\n",
        "#print('\\n',df.info())\n",
        "\n",
        "df.plot(figsize = (24,6))\n",
        "\n",
        "print(df.tail())"
      ],
      "metadata": {
        "colab": {
          "base_uri": "https://localhost:8080/",
          "height": 601
        },
        "id": "6dNodt2vx3jr",
        "outputId": "749be22f-4b2b-4a53-ad7a-9adafc583a98"
      },
      "execution_count": null,
      "outputs": [
        {
          "output_type": "stream",
          "name": "stdout",
          "text": [
            "Total number of days present in the Main dataset:  395\n",
            "Total number of fields present in the Main dataset:  6\n",
            "\n",
            "\n",
            "Total number of days present in the dataset:  395\n",
            "Total number of fields present in the dataset:  1\n",
            "                   Close\n",
            "Date                    \n",
            "2022-12-10  17128.724609\n",
            "2022-12-11  17104.193359\n",
            "2022-12-12  17206.437500\n",
            "2022-12-13  17781.318359\n",
            "2022-12-15  17655.722656\n"
          ]
        },
        {
          "output_type": "display_data",
          "data": {
            "text/plain": [
              "<Figure size 1728x432 with 1 Axes>"
            ],
            "image/png": "[encoded data removed]"
          },
          "metadata": {
            "needs_background": "light"
          }
        }
      ]
    },
    {
      "cell_type": "code",
      "metadata": {
        "id": "jcew1g4f6L_X"
      },
      "source": [
        "from statsmodels.tsa.seasonal import seasonal_decompose"
      ],
      "execution_count": null,
      "outputs": []
    },
    {
      "cell_type": "code",
      "metadata": {
        "id": "zfTZaeEH6Wpn"
      },
      "source": [
        "#results = seasonal_decompose(df['Close'])\n",
        "#results.plot();"
      ],
      "execution_count": null,
      "outputs": []
    },
    {
      "cell_type": "code",
      "metadata": {
        "id": "1NoWcZEK6rPb"
      },
      "source": [
        "train = df.iloc[ : trainSize]\n",
        "test = df.iloc[trainSize : ]"
      ],
      "execution_count": null,
      "outputs": []
    },
    {
      "cell_type": "code",
      "metadata": {
        "id": "dtAgIrE66u6x"
      },
      "source": [
        "from sklearn.preprocessing import MinMaxScaler\n",
        "scaler = MinMaxScaler()"
      ],
      "execution_count": null,
      "outputs": []
    },
    {
      "cell_type": "code",
      "metadata": {
        "id": "ijgmVYgC6zBz"
      },
      "source": [
        "scaler.fit(train)\n",
        "scaled_train = scaler.transform(train)\n",
        "#scaled_test = scaler.transform(test)\n"
      ],
      "execution_count": null,
      "outputs": []
    },
    {
      "cell_type": "code",
      "metadata": {
        "id": "0xryZ7rR62y5"
      },
      "source": [
        "from keras.preprocessing.sequence import TimeseriesGenerator"
      ],
      "execution_count": null,
      "outputs": []
    },
    {
      "cell_type": "code",
      "metadata": {
        "id": "CqyTKCVt69Z9"
      },
      "source": [
        "# define generator\n",
        "#n_input = 3\n",
        "#n_features = 1\n",
        "#generator = TimeseriesGenerator(scaled_train, scaled_train, length=n_input, batch_size=1)"
      ],
      "execution_count": null,
      "outputs": []
    },
    {
      "cell_type": "code",
      "metadata": {
        "id": "ip6y5Ene7OM7"
      },
      "source": [
        "#X,y = generator[0]\n",
        "#print(f'Given the Array: \\n{X.flatten()}')\n",
        "#print(f'Predict this y: \\n {y}')"
      ],
      "execution_count": null,
      "outputs": []
    },
    {
      "cell_type": "code",
      "metadata": {
        "id": "bQyGmvsi8HyR"
      },
      "source": [
        "#X.shape"
      ],
      "execution_count": null,
      "outputs": []
    },
    {
      "cell_type": "code",
      "metadata": {
        "id": "jm-T4H4I7UaV",
        "colab": {
          "base_uri": "https://localhost:8080/"
        },
        "outputId": "87ed38b0-dd04-4db0-e26f-11c81ed9b758"
      },
      "source": [
        "n_input = 15 #lookback\n",
        "generator = TimeseriesGenerator(scaled_train, scaled_train, length=n_input, batch_size=1)\n",
        "\n",
        "print(generator[0])\n",
        "print(len(generator))"
      ],
      "execution_count": null,
      "outputs": [
        {
          "output_type": "stream",
          "name": "stdout",
          "text": [
            "(array([[[1.        ],\n",
            "        [0.92875771],\n",
            "        [0.9330945 ],\n",
            "        [0.86123872],\n",
            "        [0.88593488],\n",
            "        [0.91902451],\n",
            "        [0.89874813],\n",
            "        [0.84754561],\n",
            "        [0.87438837],\n",
            "        [0.8473597 ],\n",
            "        [0.86821362],\n",
            "        [0.79050514],\n",
            "        [0.81662486],\n",
            "        [0.86766361],\n",
            "        [0.87936964]]]), array([[0.86256617]]))\n",
            "350\n"
          ]
        }
      ]
    },
    {
      "cell_type": "code",
      "metadata": {
        "id": "bzIs_l_k7Zqg"
      },
      "source": [
        "from keras.models import Sequential\n",
        "from keras.layers import Dense\n",
        "from keras.layers import LSTM"
      ],
      "execution_count": null,
      "outputs": []
    },
    {
      "cell_type": "code",
      "metadata": {
        "id": "eJa-wFQf7jw6"
      },
      "source": [
        "# define model\n",
        "\n",
        "n_features = 1\n",
        "model = Sequential()\n",
        "\n",
        "model.add(LSTM(20, return_sequences=True,input_shape=(n_input, n_features))) #n_input = 15, n_features = 1 \n",
        "model.add(LSTM(40, return_sequences=False))\n",
        "model.add(Dense(1))\n",
        "model.compile(optimizer='adam', loss='mse')"
      ],
      "execution_count": null,
      "outputs": []
    },
    {
      "cell_type": "code",
      "metadata": {
        "colab": {
          "base_uri": "https://localhost:8080/"
        },
        "id": "7i4ucUNv7lbk",
        "outputId": "c6658b11-da3b-446d-fc50-8c68f7ac220d"
      },
      "source": [
        "model.summary()"
      ],
      "execution_count": null,
      "outputs": [
        {
          "output_type": "stream",
          "name": "stdout",
          "text": [
            "Model: \"sequential\"\n",
            "_________________________________________________________________\n",
            " Layer (type)                Output Shape              Param #   \n",
            "=================================================================\n",
            " lstm (LSTM)                 (None, 15, 20)            1760      \n",
            "                                                                 \n",
            " lstm_1 (LSTM)               (None, 40)                9760      \n",
            "                                                                 \n",
            " dense (Dense)               (None, 1)                 41        \n",
            "                                                                 \n",
            "=================================================================\n",
            "Total params: 11,561\n",
            "Trainable params: 11,561\n",
            "Non-trainable params: 0\n",
            "_________________________________________________________________\n"
          ]
        }
      ]
    },
    {
      "cell_type": "code",
      "source": [
        "print(len(generator))"
      ],
      "metadata": {
        "colab": {
          "base_uri": "https://localhost:8080/"
        },
        "id": "yCh-r2yzMGjT",
        "outputId": "b9bf0de2-3f9e-4471-ee44-045cfd364fc5"
      },
      "execution_count": null,
      "outputs": [
        {
          "output_type": "stream",
          "name": "stdout",
          "text": [
            "350\n"
          ]
        }
      ]
    },
    {
      "cell_type": "code",
      "metadata": {
        "colab": {
          "base_uri": "https://localhost:8080/"
        },
        "id": "p8yqUZaz7nwp",
        "outputId": "c3435354-5588-467b-ef37-66f1372551d0"
      },
      "source": [
        "# fit model\n",
        "model.fit(generator,epochs= 30)"
      ],
      "execution_count": null,
      "outputs": [
        {
          "output_type": "stream",
          "name": "stdout",
          "text": [
            "Epoch 1/30\n",
            "350/350 [==============================] - 11s 18ms/step - loss: 0.0085\n",
            "Epoch 2/30\n",
            "350/350 [==============================] - 9s 24ms/step - loss: 0.0031\n",
            "Epoch 3/30\n",
            "350/350 [==============================] - 4s 12ms/step - loss: 0.0027\n",
            "Epoch 4/30\n",
            "350/350 [==============================] - 4s 12ms/step - loss: 0.0027\n",
            "Epoch 5/30\n",
            "350/350 [==============================] - 4s 12ms/step - loss: 0.0021\n",
            "Epoch 6/30\n",
            "350/350 [==============================] - 4s 12ms/step - loss: 0.0019\n",
            "Epoch 7/30\n",
            "350/350 [==============================] - 4s 12ms/step - loss: 0.0016\n",
            "Epoch 8/30\n",
            "350/350 [==============================] - 4s 12ms/step - loss: 0.0014\n",
            "Epoch 9/30\n",
            "350/350 [==============================] - 4s 12ms/step - loss: 0.0012\n",
            "Epoch 10/30\n",
            "350/350 [==============================] - 4s 12ms/step - loss: 0.0012\n",
            "Epoch 11/30\n",
            "350/350 [==============================] - 5s 15ms/step - loss: 0.0011\n",
            "Epoch 12/30\n",
            "350/350 [==============================] - 4s 12ms/step - loss: 0.0010\n",
            "Epoch 13/30\n",
            "350/350 [==============================] - 4s 13ms/step - loss: 8.8019e-04\n",
            "Epoch 14/30\n",
            "350/350 [==============================] - 5s 13ms/step - loss: 9.1603e-04\n",
            "Epoch 15/30\n",
            "350/350 [==============================] - 5s 14ms/step - loss: 9.0492e-04\n",
            "Epoch 16/30\n",
            "350/350 [==============================] - 5s 14ms/step - loss: 9.1973e-04\n",
            "Epoch 17/30\n",
            "350/350 [==============================] - 5s 13ms/step - loss: 7.6217e-04\n",
            "Epoch 18/30\n",
            "350/350 [==============================] - 6s 16ms/step - loss: 7.4710e-04\n",
            "Epoch 19/30\n",
            "350/350 [==============================] - 4s 13ms/step - loss: 7.6092e-04\n",
            "Epoch 20/30\n",
            "350/350 [==============================] - 5s 13ms/step - loss: 8.4351e-04\n",
            "Epoch 21/30\n",
            "350/350 [==============================] - 4s 12ms/step - loss: 7.8591e-04\n",
            "Epoch 22/30\n",
            "350/350 [==============================] - 4s 13ms/step - loss: 7.4151e-04\n",
            "Epoch 23/30\n",
            "350/350 [==============================] - 4s 13ms/step - loss: 8.2924e-04\n",
            "Epoch 24/30\n",
            "350/350 [==============================] - 5s 13ms/step - loss: 7.8779e-04\n",
            "Epoch 25/30\n",
            "350/350 [==============================] - 5s 14ms/step - loss: 7.4511e-04\n",
            "Epoch 26/30\n",
            "350/350 [==============================] - 4s 13ms/step - loss: 7.3080e-04\n",
            "Epoch 27/30\n",
            "350/350 [==============================] - 4s 12ms/step - loss: 7.8649e-04\n",
            "Epoch 28/30\n",
            "350/350 [==============================] - 4s 12ms/step - loss: 8.2005e-04\n",
            "Epoch 29/30\n",
            "350/350 [==============================] - 4s 13ms/step - loss: 8.8609e-04\n",
            "Epoch 30/30\n",
            "350/350 [==============================] - 5s 13ms/step - loss: 7.0613e-04\n"
          ]
        },
        {
          "output_type": "execute_result",
          "data": {
            "text/plain": [
              "<keras.callbacks.History at 0x7f86bba23e50>"
            ]
          },
          "metadata": {},
          "execution_count": 21
        }
      ]
    },
    {
      "cell_type": "code",
      "metadata": {
        "colab": {
          "base_uri": "https://localhost:8080/",
          "height": 282
        },
        "id": "OjDsOKR67rs8",
        "outputId": "bce316e3-f525-4b85-dae7-ab1d069e4b7f"
      },
      "source": [
        "loss_per_epoch = model.history.history['loss']\n",
        "plt.plot(range(len(loss_per_epoch)),loss_per_epoch)"
      ],
      "execution_count": null,
      "outputs": [
        {
          "output_type": "execute_result",
          "data": {
            "text/plain": [
              "[<matplotlib.lines.Line2D at 0x7f86b7372100>]"
            ]
          },
          "metadata": {},
          "execution_count": 22
        },
        {
          "output_type": "display_data",
          "data": {
            "text/plain": [
              "<Figure size 432x288 with 1 Axes>"
            ],
            "image/png": "[encoded data removed]"
          },
          "metadata": {
            "needs_background": "light"
          }
        }
      ]
    },
    {
      "cell_type": "code",
      "metadata": {
        "id": "h6h-fell70_S"
      },
      "source": [
        "last_train_batch = scaled_train[-n_input:]"
      ],
      "execution_count": null,
      "outputs": []
    },
    {
      "cell_type": "code",
      "metadata": {
        "id": "cwwv8O-p79bN"
      },
      "source": [
        "last_train_batch = last_train_batch.reshape((1, n_input, n_features))"
      ],
      "execution_count": null,
      "outputs": []
    },
    {
      "cell_type": "code",
      "metadata": {
        "id": "_MP-5Wez8jbY",
        "colab": {
          "base_uri": "https://localhost:8080/"
        },
        "outputId": "961267cb-e847-444b-f7a3-03666bb886cf"
      },
      "source": [
        "test_predictions = []\n",
        "\n",
        "first_eval_batch = scaled_train[-n_input : ]\n",
        "current_batch = first_eval_batch.reshape((1, n_input, n_features))\n",
        "print(current_batch)\n",
        "for i in range(len(test)):\n",
        "    \n",
        "    # get the prediction value for the first batch\n",
        "    current_pred = model.predict(current_batch)[0]\n",
        "    \n",
        "    # append the prediction into the array\n",
        "    test_predictions.append(current_pred) \n",
        "    \n",
        "    # use the prediction to update the batch and remove the first value\n",
        "    current_batch = np.append(current_batch[:,1:,:],[[current_pred]],axis=1)"
      ],
      "execution_count": null,
      "outputs": [
        {
          "output_type": "stream",
          "name": "stdout",
          "text": [
            "[[[0.09679687]\n",
            "  [0.09657664]\n",
            "  [0.08974381]\n",
            "  [0.09080269]\n",
            "  [0.11046081]\n",
            "  [0.11330203]\n",
            "  [0.10583083]\n",
            "  [0.09904204]\n",
            "  [0.0558023 ]\n",
            "  [0.        ]\n",
            "  [0.0357822 ]\n",
            "  [0.02419428]\n",
            "  [0.01926303]\n",
            "  [0.0099122 ]\n",
            "  [0.01546695]]]\n",
            "1/1 [==============================] - 1s 856ms/step\n",
            "1/1 [==============================] - 0s 18ms/step\n",
            "1/1 [==============================] - 0s 18ms/step\n",
            "1/1 [==============================] - 0s 20ms/step\n",
            "1/1 [==============================] - 0s 17ms/step\n",
            "1/1 [==============================] - 0s 21ms/step\n",
            "1/1 [==============================] - 0s 21ms/step\n",
            "1/1 [==============================] - 0s 19ms/step\n",
            "1/1 [==============================] - 0s 24ms/step\n",
            "1/1 [==============================] - 0s 18ms/step\n",
            "1/1 [==============================] - 0s 18ms/step\n",
            "1/1 [==============================] - 0s 19ms/step\n",
            "1/1 [==============================] - 0s 18ms/step\n",
            "1/1 [==============================] - 0s 18ms/step\n",
            "1/1 [==============================] - 0s 19ms/step\n",
            "1/1 [==============================] - 0s 20ms/step\n",
            "1/1 [==============================] - 0s 21ms/step\n",
            "1/1 [==============================] - 0s 18ms/step\n",
            "1/1 [==============================] - 0s 21ms/step\n",
            "1/1 [==============================] - 0s 20ms/step\n",
            "1/1 [==============================] - 0s 19ms/step\n",
            "1/1 [==============================] - 0s 18ms/step\n",
            "1/1 [==============================] - 0s 18ms/step\n",
            "1/1 [==============================] - 0s 20ms/step\n",
            "1/1 [==============================] - 0s 18ms/step\n",
            "1/1 [==============================] - 0s 25ms/step\n",
            "1/1 [==============================] - 0s 20ms/step\n",
            "1/1 [==============================] - 0s 18ms/step\n",
            "1/1 [==============================] - 0s 18ms/step\n",
            "1/1 [==============================] - 0s 22ms/step\n"
          ]
        }
      ]
    },
    {
      "cell_type": "code",
      "metadata": {
        "colab": {
          "base_uri": "https://localhost:8080/"
        },
        "id": "_mhvFuEy8sB7",
        "outputId": "f7251d78-c99f-495d-dc60-f097f35f240e"
      },
      "source": [
        "test_predictions"
      ],
      "execution_count": null,
      "outputs": [
        {
          "output_type": "execute_result",
          "data": {
            "text/plain": [
              "[array([0.0083165], dtype=float32),\n",
              " array([0.00482823], dtype=float32),\n",
              " array([0.00125049], dtype=float32),\n",
              " array([-0.00229318], dtype=float32),\n",
              " array([-0.00580478], dtype=float32),\n",
              " array([-0.00930209], dtype=float32),\n",
              " array([-0.01275704], dtype=float32),\n",
              " array([-0.01613833], dtype=float32),\n",
              " array([-0.01942571], dtype=float32),\n",
              " array([-0.02254806], dtype=float32),\n",
              " array([-0.02545456], dtype=float32),\n",
              " array([-0.02824531], dtype=float32),\n",
              " array([-0.03087966], dtype=float32),\n",
              " array([-0.03336914], dtype=float32),\n",
              " array([-0.03571288], dtype=float32),\n",
              " array([-0.03793674], dtype=float32),\n",
              " array([-0.04003481], dtype=float32),\n",
              " array([-0.04201744], dtype=float32),\n",
              " array([-0.04389081], dtype=float32),\n",
              " array([-0.04566101], dtype=float32),\n",
              " array([-0.04733356], dtype=float32),\n",
              " array([-0.04891355], dtype=float32),\n",
              " array([-0.0504057], dtype=float32),\n",
              " array([-0.05181439], dtype=float32),\n",
              " array([-0.05314373], dtype=float32),\n",
              " array([-0.05439778], dtype=float32),\n",
              " array([-0.0555804], dtype=float32),\n",
              " array([-0.0566953], dtype=float32),\n",
              " array([-0.05774599], dtype=float32),\n",
              " array([-0.05873585], dtype=float32)]"
            ]
          },
          "metadata": {},
          "execution_count": 26
        }
      ]
    },
    {
      "cell_type": "code",
      "metadata": {
        "colab": {
          "base_uri": "https://localhost:8080/",
          "height": 237
        },
        "id": "YYSqV10E9hlO",
        "outputId": "7149710d-3351-434b-8b87-8f0a2bfb757c"
      },
      "source": [
        "test.head()"
      ],
      "execution_count": null,
      "outputs": [
        {
          "output_type": "execute_result",
          "data": {
            "text/plain": [
              "                   Close\n",
              "Date                    \n",
              "2022-11-15  16884.613281\n",
              "2022-11-16  16669.439453\n",
              "2022-11-17  16687.517578\n",
              "2022-11-18  16697.777344\n",
              "2022-11-19  16711.546875"
            ],
            "text/html": [
              "\n",
              "  <div id=\"df-d320ab21-64cd-4d83-850e-c5f66801d709\">\n",
              "    <div class=\"colab-df-container\">\n",
              "      <div>\n",
              "<style scoped>\n",
              "    .dataframe tbody tr th:only-of-type {\n",
              "        vertical-align: middle;\n",
              "    }\n",
              "\n",
              "    .dataframe tbody tr th {\n",
              "        vertical-align: top;\n",
              "    }\n",
              "\n",
              "    .dataframe thead th {\n",
              "        text-align: right;\n",
              "    }\n",
              "</style>\n",
              "<table border=\"1\" class=\"dataframe\">\n",
              "  <thead>\n",
              "    <tr style=\"text-align: right;\">\n",
              "      <th></th>\n",
              "      <th>Close</th>\n",
              "    </tr>\n",
              "    <tr>\n",
              "      <th>Date</th>\n",
              "      <th></th>\n",
              "    </tr>\n",
              "  </thead>\n",
              "  <tbody>\n",
              "    <tr>\n",
              "      <th>2022-11-15</th>\n",
              "      <td>16884.613281</td>\n",
              "    </tr>\n",
              "    <tr>\n",
              "      <th>2022-11-16</th>\n",
              "      <td>16669.439453</td>\n",
              "    </tr>\n",
              "    <tr>\n",
              "      <th>2022-11-17</th>\n",
              "      <td>16687.517578</td>\n",
              "    </tr>\n",
              "    <tr>\n",
              "      <th>2022-11-18</th>\n",
              "      <td>16697.777344</td>\n",
              "    </tr>\n",
              "    <tr>\n",
              "      <th>2022-11-19</th>\n",
              "      <td>16711.546875</td>\n",
              "    </tr>\n",
              "  </tbody>\n",
              "</table>\n",
              "</div>\n",
              "      <button class=\"colab-df-convert\" onclick=\"convertToInteractive('df-d320ab21-64cd-4d83-850e-c5f66801d709')\"\n",
              "              title=\"Convert this dataframe to an interactive table.\"\n",
              "              style=\"display:none;\">\n",
              "        \n",
              "  <svg xmlns=\"http://www.w3.org/2000/svg\" height=\"24px\"viewBox=\"0 0 24 24\"\n",
              "       width=\"24px\">\n",
              "    <path d=\"M0 0h24v24H0V0z\" fill=\"none\"/>\n",
              "    <path d=\"M18.56 5.44l.94 2.06.94-2.06 2.06-.94-2.06-.94-.94-2.06-.94 2.06-2.06.94zm-11 1L8.5 8.5l.94-2.06 2.06-.94-2.06-.94L8.5 2.5l-.94 2.06-2.06.94zm10 10l.94 2.06.94-2.06 2.06-.94-2.06-.94-.94-2.06-.94 2.06-2.06.94z\"/><path d=\"M17.41 7.96l-1.37-1.37c-.4-.4-.92-.59-1.43-.59-.52 0-1.04.2-1.43.59L10.3 9.45l-7.72 7.72c-.78.78-.78 2.05 0 2.83L4 21.41c.39.39.9.59 1.41.59.51 0 1.02-.2 1.41-.59l7.78-7.78 2.81-2.81c.8-.78.8-2.07 0-2.86zM5.41 20L4 18.59l7.72-7.72 1.47 1.35L5.41 20z\"/>\n",
              "  </svg>\n",
              "      </button>\n",
              "      \n",
              "  <style>\n",
              "    .colab-df-container {\n",
              "      display:flex;\n",
              "      flex-wrap:wrap;\n",
              "      gap: 12px;\n",
              "    }\n",
              "\n",
              "    .colab-df-convert {\n",
              "      background-color: #E8F0FE;\n",
              "      border: none;\n",
              "      border-radius: 50%;\n",
              "      cursor: pointer;\n",
              "      display: none;\n",
              "      fill: #1967D2;\n",
              "      height: 32px;\n",
              "      padding: 0 0 0 0;\n",
              "      width: 32px;\n",
              "    }\n",
              "\n",
              "    .colab-df-convert:hover {\n",
              "      background-color: #E2EBFA;\n",
              "      box-shadow: 0px 1px 2px rgba(60, 64, 67, 0.3), 0px 1px 3px 1px rgba(60, 64, 67, 0.15);\n",
              "      fill: #174EA6;\n",
              "    }\n",
              "\n",
              "    [theme=dark] .colab-df-convert {\n",
              "      background-color: #3B4455;\n",
              "      fill: #D2E3FC;\n",
              "    }\n",
              "\n",
              "    [theme=dark] .colab-df-convert:hover {\n",
              "      background-color: #434B5C;\n",
              "      box-shadow: 0px 1px 3px 1px rgba(0, 0, 0, 0.15);\n",
              "      filter: drop-shadow(0px 1px 2px rgba(0, 0, 0, 0.3));\n",
              "      fill: #FFFFFF;\n",
              "    }\n",
              "  </style>\n",
              "\n",
              "      <script>\n",
              "        const buttonEl =\n",
              "          document.querySelector('#df-d320ab21-64cd-4d83-850e-c5f66801d709 button.colab-df-convert');\n",
              "        buttonEl.style.display =\n",
              "          google.colab.kernel.accessAllowed ? 'block' : 'none';\n",
              "\n",
              "        async function convertToInteractive(key) {\n",
              "          const element = document.querySelector('#df-d320ab21-64cd-4d83-850e-c5f66801d709');\n",
              "          const dataTable =\n",
              "            await google.colab.kernel.invokeFunction('convertToInteractive',\n",
              "                                                     [key], {});\n",
              "          if (!dataTable) return;\n",
              "\n",
              "          const docLinkHtml = 'Like what you see? Visit the ' +\n",
              "            '<a target=\"_blank\" href=https://colab.research.google.com/notebooks/data_table.ipynb>data table notebook</a>'\n",
              "            + ' to learn more about interactive tables.';\n",
              "          element.innerHTML = '';\n",
              "          dataTable['output_type'] = 'display_data';\n",
              "          await google.colab.output.renderOutput(dataTable, element);\n",
              "          const docLink = document.createElement('div');\n",
              "          docLink.innerHTML = docLinkHtml;\n",
              "          element.appendChild(docLink);\n",
              "        }\n",
              "      </script>\n",
              "    </div>\n",
              "  </div>\n",
              "  "
            ]
          },
          "metadata": {},
          "execution_count": 27
        }
      ]
    },
    {
      "cell_type": "code",
      "source": [
        "train.tail()"
      ],
      "metadata": {
        "colab": {
          "base_uri": "https://localhost:8080/",
          "height": 237
        },
        "id": "Pcd8449je6MT",
        "outputId": "cbaa7372-fc85-476f-9d24-b1e2e177cc43"
      },
      "execution_count": null,
      "outputs": [
        {
          "output_type": "execute_result",
          "data": {
            "text/plain": [
              "                   Close\n",
              "Date                    \n",
              "2022-11-10  17586.771484\n",
              "2022-11-11  17034.292969\n",
              "2022-11-12  16799.185547\n",
              "2022-11-13  16353.365234\n",
              "2022-11-14  16618.199219"
            ],
            "text/html": [
              "\n",
              "  <div id=\"df-6725b111-f72c-476c-af59-92a0edca4478\">\n",
              "    <div class=\"colab-df-container\">\n",
              "      <div>\n",
              "<style scoped>\n",
              "    .dataframe tbody tr th:only-of-type {\n",
              "        vertical-align: middle;\n",
              "    }\n",
              "\n",
              "    .dataframe tbody tr th {\n",
              "        vertical-align: top;\n",
              "    }\n",
              "\n",
              "    .dataframe thead th {\n",
              "        text-align: right;\n",
              "    }\n",
              "</style>\n",
              "<table border=\"1\" class=\"dataframe\">\n",
              "  <thead>\n",
              "    <tr style=\"text-align: right;\">\n",
              "      <th></th>\n",
              "      <th>Close</th>\n",
              "    </tr>\n",
              "    <tr>\n",
              "      <th>Date</th>\n",
              "      <th></th>\n",
              "    </tr>\n",
              "  </thead>\n",
              "  <tbody>\n",
              "    <tr>\n",
              "      <th>2022-11-10</th>\n",
              "      <td>17586.771484</td>\n",
              "    </tr>\n",
              "    <tr>\n",
              "      <th>2022-11-11</th>\n",
              "      <td>17034.292969</td>\n",
              "    </tr>\n",
              "    <tr>\n",
              "      <th>2022-11-12</th>\n",
              "      <td>16799.185547</td>\n",
              "    </tr>\n",
              "    <tr>\n",
              "      <th>2022-11-13</th>\n",
              "      <td>16353.365234</td>\n",
              "    </tr>\n",
              "    <tr>\n",
              "      <th>2022-11-14</th>\n",
              "      <td>16618.199219</td>\n",
              "    </tr>\n",
              "  </tbody>\n",
              "</table>\n",
              "</div>\n",
              "      <button class=\"colab-df-convert\" onclick=\"convertToInteractive('df-6725b111-f72c-476c-af59-92a0edca4478')\"\n",
              "              title=\"Convert this dataframe to an interactive table.\"\n",
              "              style=\"display:none;\">\n",
              "        \n",
              "  <svg xmlns=\"http://www.w3.org/2000/svg\" height=\"24px\"viewBox=\"0 0 24 24\"\n",
              "       width=\"24px\">\n",
              "    <path d=\"M0 0h24v24H0V0z\" fill=\"none\"/>\n",
              "    <path d=\"M18.56 5.44l.94 2.06.94-2.06 2.06-.94-2.06-.94-.94-2.06-.94 2.06-2.06.94zm-11 1L8.5 8.5l.94-2.06 2.06-.94-2.06-.94L8.5 2.5l-.94 2.06-2.06.94zm10 10l.94 2.06.94-2.06 2.06-.94-2.06-.94-.94-2.06-.94 2.06-2.06.94z\"/><path d=\"M17.41 7.96l-1.37-1.37c-.4-.4-.92-.59-1.43-.59-.52 0-1.04.2-1.43.59L10.3 9.45l-7.72 7.72c-.78.78-.78 2.05 0 2.83L4 21.41c.39.39.9.59 1.41.59.51 0 1.02-.2 1.41-.59l7.78-7.78 2.81-2.81c.8-.78.8-2.07 0-2.86zM5.41 20L4 18.59l7.72-7.72 1.47 1.35L5.41 20z\"/>\n",
              "  </svg>\n",
              "      </button>\n",
              "      \n",
              "  <style>\n",
              "    .colab-df-container {\n",
              "      display:flex;\n",
              "      flex-wrap:wrap;\n",
              "      gap: 12px;\n",
              "    }\n",
              "\n",
              "    .colab-df-convert {\n",
              "      background-color: #E8F0FE;\n",
              "      border: none;\n",
              "      border-radius: 50%;\n",
              "      cursor: pointer;\n",
              "      display: none;\n",
              "      fill: #1967D2;\n",
              "      height: 32px;\n",
              "      padding: 0 0 0 0;\n",
              "      width: 32px;\n",
              "    }\n",
              "\n",
              "    .colab-df-convert:hover {\n",
              "      background-color: #E2EBFA;\n",
              "      box-shadow: 0px 1px 2px rgba(60, 64, 67, 0.3), 0px 1px 3px 1px rgba(60, 64, 67, 0.15);\n",
              "      fill: #174EA6;\n",
              "    }\n",
              "\n",
              "    [theme=dark] .colab-df-convert {\n",
              "      background-color: #3B4455;\n",
              "      fill: #D2E3FC;\n",
              "    }\n",
              "\n",
              "    [theme=dark] .colab-df-convert:hover {\n",
              "      background-color: #434B5C;\n",
              "      box-shadow: 0px 1px 3px 1px rgba(0, 0, 0, 0.15);\n",
              "      filter: drop-shadow(0px 1px 2px rgba(0, 0, 0, 0.3));\n",
              "      fill: #FFFFFF;\n",
              "    }\n",
              "  </style>\n",
              "\n",
              "      <script>\n",
              "        const buttonEl =\n",
              "          document.querySelector('#df-6725b111-f72c-476c-af59-92a0edca4478 button.colab-df-convert');\n",
              "        buttonEl.style.display =\n",
              "          google.colab.kernel.accessAllowed ? 'block' : 'none';\n",
              "\n",
              "        async function convertToInteractive(key) {\n",
              "          const element = document.querySelector('#df-6725b111-f72c-476c-af59-92a0edca4478');\n",
              "          const dataTable =\n",
              "            await google.colab.kernel.invokeFunction('convertToInteractive',\n",
              "                                                     [key], {});\n",
              "          if (!dataTable) return;\n",
              "\n",
              "          const docLinkHtml = 'Like what you see? Visit the ' +\n",
              "            '<a target=\"_blank\" href=https://colab.research.google.com/notebooks/data_table.ipynb>data table notebook</a>'\n",
              "            + ' to learn more about interactive tables.';\n",
              "          element.innerHTML = '';\n",
              "          dataTable['output_type'] = 'display_data';\n",
              "          await google.colab.output.renderOutput(dataTable, element);\n",
              "          const docLink = document.createElement('div');\n",
              "          docLink.innerHTML = docLinkHtml;\n",
              "          element.appendChild(docLink);\n",
              "        }\n",
              "      </script>\n",
              "    </div>\n",
              "  </div>\n",
              "  "
            ]
          },
          "metadata": {},
          "execution_count": 28
        }
      ]
    },
    {
      "cell_type": "code",
      "metadata": {
        "id": "BHHzjNDK9EJZ",
        "colab": {
          "base_uri": "https://localhost:8080/"
        },
        "outputId": "dfa577f5-0dac-40e5-bee6-290a9a659ea8"
      },
      "source": [
        "true_predictions = scaler.inverse_transform(test_predictions)\n",
        "print(true_predictions)"
      ],
      "execution_count": null,
      "outputs": [
        {
          "output_type": "stream",
          "name": "stdout",
          "text": [
            "[[16277.2867158 ]\n",
            " [16110.97603442]\n",
            " [15940.39984717]\n",
            " [15771.44791255]\n",
            " [15604.02503106]\n",
            " [15437.28382061]\n",
            " [15272.56169205]\n",
            " [15111.35164348]\n",
            " [14954.61916832]\n",
            " [14805.75415018]\n",
            " [14667.18097928]\n",
            " [14534.12582705]\n",
            " [14408.52785042]\n",
            " [14289.83681052]\n",
            " [14178.09426831]\n",
            " [14072.06689298]\n",
            " [13972.03708603]\n",
            " [13877.51108887]\n",
            " [13788.19406723]\n",
            " [13703.79615996]\n",
            " [13624.05379232]\n",
            " [13548.72434769]\n",
            " [13477.58332574]\n",
            " [13410.42079029]\n",
            " [13347.04172444]\n",
            " [13287.2525322 ]\n",
            " [13230.86849812]\n",
            " [13177.7134321 ]\n",
            " [13127.61931412]\n",
            " [13080.42558383]]\n"
          ]
        }
      ]
    },
    {
      "cell_type": "code",
      "metadata": {
        "id": "0dsN45zf9I9u",
        "colab": {
          "base_uri": "https://localhost:8080/"
        },
        "outputId": "df85c771-bfe4-4b78-facb-eab17b648b06"
      },
      "source": [
        "test['Predictions'] = true_predictions"
      ],
      "execution_count": null,
      "outputs": [
        {
          "output_type": "stream",
          "name": "stderr",
          "text": [
            "<ipython-input-30-920b79c3c314>:1: SettingWithCopyWarning: \n",
            "A value is trying to be set on a copy of a slice from a DataFrame.\n",
            "Try using .loc[row_indexer,col_indexer] = value instead\n",
            "\n",
            "See the caveats in the documentation: https://pandas.pydata.org/pandas-docs/stable/user_guide/indexing.html#returning-a-view-versus-a-copy\n",
            "  test['Predictions'] = true_predictions\n"
          ]
        }
      ]
    },
    {
      "cell_type": "code",
      "source": [
        "train.tail()"
      ],
      "metadata": {
        "colab": {
          "base_uri": "https://localhost:8080/",
          "height": 237
        },
        "id": "B1mm4wB1s10M",
        "outputId": "ab878120-4a18-493a-9297-7402d1a33eae"
      },
      "execution_count": null,
      "outputs": [
        {
          "output_type": "execute_result",
          "data": {
            "text/plain": [
              "                   Close\n",
              "Date                    \n",
              "2022-11-10  17586.771484\n",
              "2022-11-11  17034.292969\n",
              "2022-11-12  16799.185547\n",
              "2022-11-13  16353.365234\n",
              "2022-11-14  16618.199219"
            ],
            "text/html": [
              "\n",
              "  <div id=\"df-e6607a2e-40ec-4f31-8a87-87d0afe838c4\">\n",
              "    <div class=\"colab-df-container\">\n",
              "      <div>\n",
              "<style scoped>\n",
              "    .dataframe tbody tr th:only-of-type {\n",
              "        vertical-align: middle;\n",
              "    }\n",
              "\n",
              "    .dataframe tbody tr th {\n",
              "        vertical-align: top;\n",
              "    }\n",
              "\n",
              "    .dataframe thead th {\n",
              "        text-align: right;\n",
              "    }\n",
              "</style>\n",
              "<table border=\"1\" class=\"dataframe\">\n",
              "  <thead>\n",
              "    <tr style=\"text-align: right;\">\n",
              "      <th></th>\n",
              "      <th>Close</th>\n",
              "    </tr>\n",
              "    <tr>\n",
              "      <th>Date</th>\n",
              "      <th></th>\n",
              "    </tr>\n",
              "  </thead>\n",
              "  <tbody>\n",
              "    <tr>\n",
              "      <th>2022-11-10</th>\n",
              "      <td>17586.771484</td>\n",
              "    </tr>\n",
              "    <tr>\n",
              "      <th>2022-11-11</th>\n",
              "      <td>17034.292969</td>\n",
              "    </tr>\n",
              "    <tr>\n",
              "      <th>2022-11-12</th>\n",
              "      <td>16799.185547</td>\n",
              "    </tr>\n",
              "    <tr>\n",
              "      <th>2022-11-13</th>\n",
              "      <td>16353.365234</td>\n",
              "    </tr>\n",
              "    <tr>\n",
              "      <th>2022-11-14</th>\n",
              "      <td>16618.199219</td>\n",
              "    </tr>\n",
              "  </tbody>\n",
              "</table>\n",
              "</div>\n",
              "      <button class=\"colab-df-convert\" onclick=\"convertToInteractive('df-e6607a2e-40ec-4f31-8a87-87d0afe838c4')\"\n",
              "              title=\"Convert this dataframe to an interactive table.\"\n",
              "              style=\"display:none;\">\n",
              "        \n",
              "  <svg xmlns=\"http://www.w3.org/2000/svg\" height=\"24px\"viewBox=\"0 0 24 24\"\n",
              "       width=\"24px\">\n",
              "    <path d=\"M0 0h24v24H0V0z\" fill=\"none\"/>\n",
              "    <path d=\"M18.56 5.44l.94 2.06.94-2.06 2.06-.94-2.06-.94-.94-2.06-.94 2.06-2.06.94zm-11 1L8.5 8.5l.94-2.06 2.06-.94-2.06-.94L8.5 2.5l-.94 2.06-2.06.94zm10 10l.94 2.06.94-2.06 2.06-.94-2.06-.94-.94-2.06-.94 2.06-2.06.94z\"/><path d=\"M17.41 7.96l-1.37-1.37c-.4-.4-.92-.59-1.43-.59-.52 0-1.04.2-1.43.59L10.3 9.45l-7.72 7.72c-.78.78-.78 2.05 0 2.83L4 21.41c.39.39.9.59 1.41.59.51 0 1.02-.2 1.41-.59l7.78-7.78 2.81-2.81c.8-.78.8-2.07 0-2.86zM5.41 20L4 18.59l7.72-7.72 1.47 1.35L5.41 20z\"/>\n",
              "  </svg>\n",
              "      </button>\n",
              "      \n",
              "  <style>\n",
              "    .colab-df-container {\n",
              "      display:flex;\n",
              "      flex-wrap:wrap;\n",
              "      gap: 12px;\n",
              "    }\n",
              "\n",
              "    .colab-df-convert {\n",
              "      background-color: #E8F0FE;\n",
              "      border: none;\n",
              "      border-radius: 50%;\n",
              "      cursor: pointer;\n",
              "      display: none;\n",
              "      fill: #1967D2;\n",
              "      height: 32px;\n",
              "      padding: 0 0 0 0;\n",
              "      width: 32px;\n",
              "    }\n",
              "\n",
              "    .colab-df-convert:hover {\n",
              "      background-color: #E2EBFA;\n",
              "      box-shadow: 0px 1px 2px rgba(60, 64, 67, 0.3), 0px 1px 3px 1px rgba(60, 64, 67, 0.15);\n",
              "      fill: #174EA6;\n",
              "    }\n",
              "\n",
              "    [theme=dark] .colab-df-convert {\n",
              "      background-color: #3B4455;\n",
              "      fill: #D2E3FC;\n",
              "    }\n",
              "\n",
              "    [theme=dark] .colab-df-convert:hover {\n",
              "      background-color: #434B5C;\n",
              "      box-shadow: 0px 1px 3px 1px rgba(0, 0, 0, 0.15);\n",
              "      filter: drop-shadow(0px 1px 2px rgba(0, 0, 0, 0.3));\n",
              "      fill: #FFFFFF;\n",
              "    }\n",
              "  </style>\n",
              "\n",
              "      <script>\n",
              "        const buttonEl =\n",
              "          document.querySelector('#df-e6607a2e-40ec-4f31-8a87-87d0afe838c4 button.colab-df-convert');\n",
              "        buttonEl.style.display =\n",
              "          google.colab.kernel.accessAllowed ? 'block' : 'none';\n",
              "\n",
              "        async function convertToInteractive(key) {\n",
              "          const element = document.querySelector('#df-e6607a2e-40ec-4f31-8a87-87d0afe838c4');\n",
              "          const dataTable =\n",
              "            await google.colab.kernel.invokeFunction('convertToInteractive',\n",
              "                                                     [key], {});\n",
              "          if (!dataTable) return;\n",
              "\n",
              "          const docLinkHtml = 'Like what you see? Visit the ' +\n",
              "            '<a target=\"_blank\" href=https://colab.research.google.com/notebooks/data_table.ipynb>data table notebook</a>'\n",
              "            + ' to learn more about interactive tables.';\n",
              "          element.innerHTML = '';\n",
              "          dataTable['output_type'] = 'display_data';\n",
              "          await google.colab.output.renderOutput(dataTable, element);\n",
              "          const docLink = document.createElement('div');\n",
              "          docLink.innerHTML = docLinkHtml;\n",
              "          element.appendChild(docLink);\n",
              "        }\n",
              "      </script>\n",
              "    </div>\n",
              "  </div>\n",
              "  "
            ]
          },
          "metadata": {},
          "execution_count": 31
        }
      ]
    },
    {
      "cell_type": "code",
      "metadata": {
        "colab": {
          "base_uri": "https://localhost:8080/",
          "height": 257
        },
        "id": "xJ7sI5xh9Lb0",
        "outputId": "ecfec80f-9ac0-40ad-c1f9-04918aaa0846"
      },
      "source": [
        "test.plot(figsize=(24,3))"
      ],
      "execution_count": null,
      "outputs": [
        {
          "output_type": "execute_result",
          "data": {
            "text/plain": [
              "<matplotlib.axes._subplots.AxesSubplot at 0x7f86b692e670>"
            ]
          },
          "metadata": {},
          "execution_count": 32
        },
        {
          "output_type": "display_data",
          "data": {
            "text/plain": [
              "<Figure size 1728x216 with 1 Axes>"
            ],
            "image/png": "[encoded data removed]"
          },
          "metadata": {
            "needs_background": "light"
          }
        }
      ]
    },
    {
      "cell_type": "code",
      "metadata": {
        "colab": {
          "base_uri": "https://localhost:8080/"
        },
        "id": "OCsYjzge9OVe",
        "outputId": "2284088c-a51b-4de8-f5cf-5a237aa47a0b"
      },
      "source": [
        "from sklearn.metrics import mean_squared_error\n",
        "from math import sqrt\n",
        "rmse=sqrt(mean_squared_error(test['Close'],test['Predictions']))\n",
        "print(rmse)"
      ],
      "execution_count": null,
      "outputs": [
        {
          "output_type": "stream",
          "name": "stdout",
          "text": [
            "2796.593959594318\n"
          ]
        }
      ]
    }
  ]
}